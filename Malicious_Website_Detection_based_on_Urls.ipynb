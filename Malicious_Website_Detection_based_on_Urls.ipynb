{
  "nbformat": 4,
  "nbformat_minor": 0,
  "metadata": {
    "colab": {
      "name": "Malicious Website Detection based on Urls.ipynb",
      "provenance": [],
      "authorship_tag": "ABX9TyM7QEEKs1yeylRQLOH6CCmc",
      "include_colab_link": true
    },
    "kernelspec": {
      "name": "python3",
      "display_name": "Python 3"
    },
    "language_info": {
      "name": "python"
    }
  },
  "cells": [
    {
      "cell_type": "markdown",
      "metadata": {
        "id": "view-in-github",
        "colab_type": "text"
      },
      "source": [
        "<a href=\"https://colab.research.google.com/github/Praneeth021/MWD/blob/main/Malicious_Website_Detection_based_on_Urls.ipynb\" target=\"_parent\"><img src=\"https://colab.research.google.com/assets/colab-badge.svg\" alt=\"Open In Colab\"/></a>"
      ]
    },
    {
      "cell_type": "markdown",
      "source": [
        "# **Malicious Webpage Detection**\n",
        "\n",
        "---\n",
        "\n",
        "######*Final Year Major Project*\n",
        "\n",
        "\n"
      ],
      "metadata": {
        "id": "ZsE_jVv76qrb"
      }
    },
    {
      "cell_type": "markdown",
      "source": [
        "#**1. Introduction:**\n",
        "A malicious website is a common social engineering method that mimics trustful uniform resource locators (URLs) and webpages. The objective of this project is to train machine learning models and deep neural nets on the dataset created to predict phishing websites. Both phishing and benign URLs of websites are gathered to form a dataset and from them required URL and website content-based features are extracted. The performance level of each model is measures and compared.\n",
        "\n",
        "This project is worked on Google Collaboratory.\n",
        "The required packages for this notebook are imported when needed."
      ],
      "metadata": {
        "id": "LPiPsgBt7fAT"
      }
    },
    {
      "cell_type": "markdown",
      "source": [
        "#**2. Loading the Required Dataset:**\n",
        "\n",
        "The features are extracted and store in the csv file. The working of this can be seen in the 'Phishing Website Detection_Feature Extraction.ipynb' file.\n",
        "\n",
        "The reulted csv file is uploaded to this notebook and stored in the dataframe."
      ],
      "metadata": {
        "id": "kZN5hQCe8G_r"
      }
    },
    {
      "cell_type": "code",
      "source": [
        "#Importing Primary Packages\n",
        "import numpy as np\n",
        "import pandas as pd\n",
        "import seaborn as sns\n",
        "import matplotlib.pyplot as plt"
      ],
      "metadata": {
        "id": "ggqvhZTY8boA"
      },
      "execution_count": null,
      "outputs": []
    },
    {
      "cell_type": "code",
      "source": [
        ""
      ],
      "metadata": {
        "id": "zSkqpNgD8orJ"
      },
      "execution_count": null,
      "outputs": []
    }
  ]
}